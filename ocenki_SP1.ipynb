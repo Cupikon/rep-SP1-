{
 "cells": [
  {
   "cell_type": "code",
   "execution_count": 11,
   "id": "6c965207",
   "metadata": {},
   "outputs": [
    {
     "name": "stdout",
     "output_type": "stream",
     "text": [
      "                              имя       grade\n",
      "0         Агаева Эмилия Назимовна     автомат\n",
      "1         Бауман Артём Георгиевич    на зачет\n",
      "2             Вехов Иван Олегович     автомат\n",
      "3         Егоров Кирилл Сергеевич  отчисление\n",
      "4      Килимчук Иван Вячеславович     автомат\n",
      "5         Кираев Булат Рустамович     автомат\n",
      "6           Козлов Глеб Денисович     автомат\n",
      "7        Корнийчук Павел Павлович     автомат\n",
      "8    Мирошниченко Никита Игоревич     автомат\n",
      "9       Родионова Мария Романовна     автомат\n",
      "10        Садыков Артур Маратович    на зачет\n",
      "11        Сёмин Михаил Максимович     автомат\n",
      "12  Циберева Елизавета Кирилловна     автомат\n",
      "13        Яранцев Егор Евгеньевич     автомат\n",
      "14              Бакланов Владимир    на зачет\n",
      "15              Виноградова Мария     автомат\n",
      "16                   Гладков Иван     автомат\n",
      "17            Горностаев Геннадий  отчисление\n",
      "18                 Дручук Георгий     автомат\n",
      "19                  Зайцев Даниил     автомат\n",
      "20           Караваева Александра     автомат\n",
      "21                 Малышев Максим     автомат\n",
      "22                 Микляева Дарья     автомат\n",
      "23                 Морозова Мария     автомат\n",
      "24                   Русанов Эрик     автомат\n",
      "25              Тарасюк Екатерина     автомат\n",
      "26                   Тылык Даниил     автомат\n",
      "27                 Шипицын Матвей     автомат\n",
      "28                  Уваров Андрей     автомат\n"
     ]
    },
    {
     "name": "stderr",
     "output_type": "stream",
     "text": [
      "C:\\Users\\glebk\\anaconda3\\Lib\\site-packages\\sklearn\\cluster\\_kmeans.py:1412: FutureWarning: The default value of `n_init` will change from 10 to 'auto' in 1.4. Set the value of `n_init` explicitly to suppress the warning\n",
      "  super()._check_params_vs_input(X, default_n_init=10)\n",
      "C:\\Users\\glebk\\anaconda3\\Lib\\site-packages\\sklearn\\cluster\\_kmeans.py:1436: UserWarning: KMeans is known to have a memory leak on Windows with MKL, when there are less chunks than available threads. You can avoid it by setting the environment variable OMP_NUM_THREADS=1.\n",
      "  warnings.warn(\n"
     ]
    }
   ],
   "source": [
    "import pandas as pd\n",
    "from sklearn.cluster import KMeans\n",
    "\n",
    "\n",
    "try:\n",
    "    df = pd.read_csv(\"Statprak.csv\", delimiter=\";\")\n",
    "except Exception as e:\n",
    "    print(\"Ошибка при чтении файла:\", e)\n",
    "    exit()\n",
    "\n",
    "\n",
    "weights = {\n",
    "'basis': 0.2,\n",
    "'Numpy': 0.2,\n",
    "'random': 0.2,\n",
    "'flights': 0.3, # Больший вес для этого столбца\n",
    "'trees': 0.2,\n",
    "'project': 0.3, # Больший вес для этого столбца\n",
    "'check': 0.1 # Меньший вес для этого столбца\n",
    "}\n",
    "\n",
    "\n",
    "for col, weight in weights.items():\n",
    "    df[col] *= weight\n",
    "\n",
    "\n",
    "kmeans = KMeans(n_clusters=3)\n",
    "kmeans.fit(df.drop(columns=['имя']))\n",
    "\n",
    "\n",
    "grades = ['автомат','на зачет','отчисление']\n",
    "df['grade'] = kmeans.labels_\n",
    "df['grade'] = df['grade'].map({0: grades[0], 1: grades[1], 2: grades[2]})\n",
    "\n",
    "\n",
    "print(df[['имя', 'grade']])"
   ]
  },
  {
   "cell_type": "code",
   "execution_count": null,
   "id": "206070d7",
   "metadata": {},
   "outputs": [],
   "source": []
  }
 ],
 "metadata": {
  "kernelspec": {
   "display_name": "Python 3 (ipykernel)",
   "language": "python",
   "name": "python3"
  },
  "language_info": {
   "codemirror_mode": {
    "name": "ipython",
    "version": 3
   },
   "file_extension": ".py",
   "mimetype": "text/x-python",
   "name": "python",
   "nbconvert_exporter": "python",
   "pygments_lexer": "ipython3",
   "version": "3.11.5"
  }
 },
 "nbformat": 4,
 "nbformat_minor": 5
}
